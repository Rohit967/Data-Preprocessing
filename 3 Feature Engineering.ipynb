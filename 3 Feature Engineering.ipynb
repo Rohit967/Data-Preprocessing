{
 "cells": [
  {
   "cell_type": "markdown",
   "metadata": {},
   "source": [
    "# Feature Engineering\n",
    "* Creation of new features based on existing features\n",
    "* Insight into relationships between features\n",
    "* Extract and expand data"
   ]
  },
  {
   "cell_type": "markdown",
   "metadata": {},
   "source": [
    "## 1. Encoding categorical variables\n",
    "We need to encode categorical variables for machine learning models"
   ]
  },
  {
   "cell_type": "markdown",
   "metadata": {},
   "source": [
    "### Encoding binary variables - Pandas\n",
    "In pandas, we can use the apply function to encode 1s and 0s in a dataframe column."
   ]
  },
  {
   "cell_type": "markdown",
   "metadata": {},
   "source": [
    "### Endocing binary variables - scikit-learn\n",
    "In scikit-learn, we can use LabelEncoder "
   ]
  },
  {
   "cell_type": "code",
   "execution_count": 3,
   "metadata": {},
   "outputs": [
    {
     "data": {
      "text/plain": [
       "Index(['Accessible', 'Difficulty', 'Length', 'Limited_Access', 'Location',\n",
       "       'Name', 'Other_Details', 'Park_Name', 'Prop_ID', 'lat', 'lon'],\n",
       "      dtype='object')"
      ]
     },
     "execution_count": 3,
     "metadata": {},
     "output_type": "execute_result"
    }
   ],
   "source": [
    "import pandas as pd\n",
    "hiking = pd.read_json('hiking.json')\n",
    "hiking.columns"
   ]
  },
  {
   "cell_type": "code",
   "execution_count": 4,
   "metadata": {},
   "outputs": [
    {
     "data": {
      "text/html": [
       "<div>\n",
       "<style scoped>\n",
       "    .dataframe tbody tr th:only-of-type {\n",
       "        vertical-align: middle;\n",
       "    }\n",
       "\n",
       "    .dataframe tbody tr th {\n",
       "        vertical-align: top;\n",
       "    }\n",
       "\n",
       "    .dataframe thead th {\n",
       "        text-align: right;\n",
       "    }\n",
       "</style>\n",
       "<table border=\"1\" class=\"dataframe\">\n",
       "  <thead>\n",
       "    <tr style=\"text-align: right;\">\n",
       "      <th></th>\n",
       "      <th>Accessible</th>\n",
       "      <th>Difficulty</th>\n",
       "      <th>Length</th>\n",
       "      <th>Limited_Access</th>\n",
       "      <th>Location</th>\n",
       "      <th>Name</th>\n",
       "      <th>Other_Details</th>\n",
       "      <th>Park_Name</th>\n",
       "      <th>Prop_ID</th>\n",
       "      <th>lat</th>\n",
       "      <th>lon</th>\n",
       "    </tr>\n",
       "  </thead>\n",
       "  <tbody>\n",
       "    <tr>\n",
       "      <th>0</th>\n",
       "      <td>Y</td>\n",
       "      <td>None</td>\n",
       "      <td>0.8 miles</td>\n",
       "      <td>N</td>\n",
       "      <td>Enter behind the Salt Marsh Nature Center, loc...</td>\n",
       "      <td>Salt Marsh Nature Trail</td>\n",
       "      <td>&lt;p&gt;The first half of this mile-long trail foll...</td>\n",
       "      <td>Marine Park</td>\n",
       "      <td>B057</td>\n",
       "      <td>NaN</td>\n",
       "      <td>NaN</td>\n",
       "    </tr>\n",
       "    <tr>\n",
       "      <th>1</th>\n",
       "      <td>N</td>\n",
       "      <td>Easy</td>\n",
       "      <td>1.0 mile</td>\n",
       "      <td>N</td>\n",
       "      <td>Enter Park at Lincoln Road and Ocean Avenue en...</td>\n",
       "      <td>Lullwater</td>\n",
       "      <td>Explore the Lullwater to see how nature thrive...</td>\n",
       "      <td>Prospect Park</td>\n",
       "      <td>B073</td>\n",
       "      <td>NaN</td>\n",
       "      <td>NaN</td>\n",
       "    </tr>\n",
       "    <tr>\n",
       "      <th>2</th>\n",
       "      <td>N</td>\n",
       "      <td>Easy</td>\n",
       "      <td>0.75 miles</td>\n",
       "      <td>N</td>\n",
       "      <td>Enter Park at Lincoln Road and Ocean Avenue en...</td>\n",
       "      <td>Midwood</td>\n",
       "      <td>Step back in time with a walk through Brooklyn...</td>\n",
       "      <td>Prospect Park</td>\n",
       "      <td>B073</td>\n",
       "      <td>NaN</td>\n",
       "      <td>NaN</td>\n",
       "    </tr>\n",
       "    <tr>\n",
       "      <th>3</th>\n",
       "      <td>N</td>\n",
       "      <td>Easy</td>\n",
       "      <td>0.5 miles</td>\n",
       "      <td>N</td>\n",
       "      <td>Enter Park at Lincoln Road and Ocean Avenue en...</td>\n",
       "      <td>Peninsula</td>\n",
       "      <td>Discover how the Peninsula has changed over th...</td>\n",
       "      <td>Prospect Park</td>\n",
       "      <td>B073</td>\n",
       "      <td>NaN</td>\n",
       "      <td>NaN</td>\n",
       "    </tr>\n",
       "    <tr>\n",
       "      <th>4</th>\n",
       "      <td>N</td>\n",
       "      <td>Easy</td>\n",
       "      <td>0.5 miles</td>\n",
       "      <td>N</td>\n",
       "      <td>Enter Park at Lincoln Road and Ocean Avenue en...</td>\n",
       "      <td>Waterfall</td>\n",
       "      <td>Trace the source of the Lake on the Waterfall ...</td>\n",
       "      <td>Prospect Park</td>\n",
       "      <td>B073</td>\n",
       "      <td>NaN</td>\n",
       "      <td>NaN</td>\n",
       "    </tr>\n",
       "  </tbody>\n",
       "</table>\n",
       "</div>"
      ],
      "text/plain": [
       "  Accessible Difficulty      Length Limited_Access  \\\n",
       "0          Y       None   0.8 miles              N   \n",
       "1          N       Easy    1.0 mile              N   \n",
       "2          N       Easy  0.75 miles              N   \n",
       "3          N       Easy   0.5 miles              N   \n",
       "4          N       Easy   0.5 miles              N   \n",
       "\n",
       "                                            Location                     Name  \\\n",
       "0  Enter behind the Salt Marsh Nature Center, loc...  Salt Marsh Nature Trail   \n",
       "1  Enter Park at Lincoln Road and Ocean Avenue en...                Lullwater   \n",
       "2  Enter Park at Lincoln Road and Ocean Avenue en...                  Midwood   \n",
       "3  Enter Park at Lincoln Road and Ocean Avenue en...                Peninsula   \n",
       "4  Enter Park at Lincoln Road and Ocean Avenue en...                Waterfall   \n",
       "\n",
       "                                       Other_Details      Park_Name Prop_ID  \\\n",
       "0  <p>The first half of this mile-long trail foll...    Marine Park    B057   \n",
       "1  Explore the Lullwater to see how nature thrive...  Prospect Park    B073   \n",
       "2  Step back in time with a walk through Brooklyn...  Prospect Park    B073   \n",
       "3  Discover how the Peninsula has changed over th...  Prospect Park    B073   \n",
       "4  Trace the source of the Lake on the Waterfall ...  Prospect Park    B073   \n",
       "\n",
       "   lat  lon  \n",
       "0  NaN  NaN  \n",
       "1  NaN  NaN  \n",
       "2  NaN  NaN  \n",
       "3  NaN  NaN  \n",
       "4  NaN  NaN  "
      ]
     },
     "execution_count": 4,
     "metadata": {},
     "output_type": "execute_result"
    }
   ],
   "source": [
    "hiking.head()"
   ]
  },
  {
   "cell_type": "markdown",
   "metadata": {},
   "source": [
    "Take a look at the hiking dataset. There are several columns here that need encoding, \n",
    "one of which is the Accessible column, which needs to be encoded in order to be modeled. \n",
    "Accessible is a binary feature, so it has two values - either Y or N - so it needs to \n",
    "be encoded into 1s and 0s. Use scikit-learn's LabelEncoder method to do that transformation."
   ]
  },
  {
   "cell_type": "code",
   "execution_count": 5,
   "metadata": {
    "scrolled": true
   },
   "outputs": [
    {
     "name": "stdout",
     "output_type": "stream",
     "text": [
      "   Accessible_enc Accessible\n",
      "0               1          Y\n",
      "1               0          N\n",
      "2               0          N\n",
      "3               0          N\n",
      "4               0          N\n"
     ]
    }
   ],
   "source": [
    "# Set up the LabelEncoder object\n",
    "from sklearn.preprocessing import LabelEncoder\n",
    "enc = LabelEncoder()\n",
    "\n",
    "# Apply the encoding to the \"Accessible\" column\n",
    "hiking[\"Accessible_enc\"] = enc.fit_transform(hiking[\"Accessible\"])\n",
    "\n",
    "# Compare the two columns\n",
    "print(hiking[[\"Accessible_enc\", \"Accessible\"]].head())"
   ]
  },
  {
   "cell_type": "markdown",
   "metadata": {},
   "source": [
    "### Encoding categorical variables - One-hot encoding\n",
    "One-hot encoding encodes categorical variables into 1s and 0s when you have more than two \n",
    "variables to encode.\n",
    "\n",
    "<img src = \"one-hot.png\">"
   ]
  },
  {
   "cell_type": "markdown",
   "metadata": {},
   "source": [
    "One of the columns in the volunteer dataset, category_desc, gives category descriptions \n",
    "for the volunteer opportunities listed. Because it is a categorical variable with more than \n",
    "two categories, we need to use one-hot encoding to transform this column numerically. \n",
    "Use Pandas' get_dummies() function to do so."
   ]
  },
  {
   "cell_type": "code",
   "execution_count": 12,
   "metadata": {
    "scrolled": true
   },
   "outputs": [
    {
     "name": "stdout",
     "output_type": "stream",
     "text": [
      "<class 'pandas.core.frame.DataFrame'>\n",
      "(665, 6)\n",
      "0                          NaN\n",
      "1    Strengthening Communities\n",
      "2    Strengthening Communities\n",
      "3    Strengthening Communities\n",
      "4                  Environment\n",
      "Name: category_desc, dtype: object\n",
      "   Education  Emergency Preparedness  Environment  Health  \\\n",
      "0          0                       0            0       0   \n",
      "1          0                       0            0       0   \n",
      "2          0                       0            0       0   \n",
      "3          0                       0            0       0   \n",
      "4          0                       0            1       0   \n",
      "\n",
      "   Helping Neighbors in Need  Strengthening Communities  \n",
      "0                          0                          0  \n",
      "1                          0                          1  \n",
      "2                          0                          1  \n",
      "3                          0                          1  \n",
      "4                          0                          0  \n"
     ]
    }
   ],
   "source": [
    "# making data frame from csv file \n",
    "volunteer = pd.read_csv(\"volunteer_opportunities.csv\") \n",
    "# Transform the category_desc column\n",
    "category_enc = pd.get_dummies(volunteer[\"category_desc\"])\n",
    "print(type(category_enc))\n",
    "print(category_enc.shape)\n",
    "print(volunteer[\"category_desc\"].head())\n",
    "print(category_enc.head())"
   ]
  },
  {
   "cell_type": "code",
   "execution_count": null,
   "metadata": {},
   "outputs": [],
   "source": [
    "# Concatenate this set back to the volunteer DataFrame\n",
    "volunteer_new = pd.concat([volunteer, category_enc], axis=1)\n",
    "\n",
    "# Take a look at the encoded columns\n",
    "print(volunteer.shape)\n",
    "print(volunteer_new.shape)\n",
    "print(category_enc.shape)\n",
    "print(category_enc.head())"
   ]
  },
  {
   "cell_type": "markdown",
   "metadata": {},
   "source": [
    "### 2. Engineering numerical features - datetime\n",
    "There are several columns in the volunteer dataset comprised of datetimes. Let's take a look at the start_date_date column and extract just the month to use as a feature for modeling."
   ]
  },
  {
   "cell_type": "code",
   "execution_count": 13,
   "metadata": {},
   "outputs": [
    {
     "name": "stdout",
     "output_type": "stream",
     "text": [
      "0        July 30 2011\n",
      "1    February 01 2011\n",
      "2     January 29 2011\n",
      "3    February 14 2011\n",
      "4    February 05 2011\n",
      "Name: start_date_date, dtype: object\n"
     ]
    }
   ],
   "source": [
    "print(volunteer[\"start_date_date\"].head())"
   ]
  },
  {
   "cell_type": "code",
   "execution_count": 19,
   "metadata": {},
   "outputs": [
    {
     "name": "stdout",
     "output_type": "stream",
     "text": [
      "    start_date_date start_date_converted  start_date_month\n",
      "0      July 30 2011           2011-07-30                 7\n",
      "1  February 01 2011           2011-02-01                 2\n",
      "2   January 29 2011           2011-01-29                 1\n",
      "3  February 14 2011           2011-02-14                 2\n",
      "4  February 05 2011           2011-02-05                 2\n"
     ]
    }
   ],
   "source": [
    "\n",
    "# First, convert string column to date column\n",
    "volunteer[\"start_date_converted\"] = pd.to_datetime(volunteer[\"start_date_date\"])\n",
    "\n",
    "# Method 1:\n",
    "#for index, row in volunteer.iterrows():\n",
    "#    volunteer[\"start_date_month\"][index] = row[\"start_date_converted\"].month\n",
    "\n",
    "# Method 2:\n",
    "#def return_month(row):\n",
    "#     return row.month\n",
    "#volunteer[\"start_date_month\"] = volunteer[\"start_date_converted\"].apply(return_month)\n",
    "\n",
    "# Method 3:\n",
    "# Extract just the month from the converted column\n",
    "volunteer[\"start_date_month\"] = volunteer[\"start_date_converted\"].apply(lambda row: row.month)\n",
    "\n",
    "# Take a look at the original and new columns\n",
    "print(volunteer[[\"start_date_date\",\"start_date_converted\", \"start_date_month\"]].head())"
   ]
  },
  {
   "cell_type": "markdown",
   "metadata": {},
   "source": [
    "### 3. Engineering features from strings - extraction\n",
    "The Length column in the hiking dataset is a column of strings, but contained in the column \n",
    "is the mileage for the hike. We're going to extract this mileage using regular expressions, \n",
    "and then use a lambda in Pandas to apply the extraction to the DataFrame."
   ]
  },
  {
   "cell_type": "code",
   "execution_count": 21,
   "metadata": {},
   "outputs": [
    {
     "name": "stdout",
     "output_type": "stream",
     "text": [
      "0     0.8 miles\n",
      "1      1.0 mile\n",
      "2    0.75 miles\n",
      "3     0.5 miles\n",
      "4     0.5 miles\n",
      "Name: Length, dtype: object\n"
     ]
    }
   ],
   "source": [
    "print(hiking[\"Length\"].head())"
   ]
  },
  {
   "cell_type": "markdown",
   "metadata": {},
   "source": [
    "### Regular Expressions (Regex)\n",
    "http://www.ntu.edu.sg/home/ehchua/programming/howto/regexe.html"
   ]
  },
  {
   "cell_type": "code",
   "execution_count": 23,
   "metadata": {},
   "outputs": [
    {
     "name": "stdout",
     "output_type": "stream",
     "text": [
      "        Length  Length_num\n",
      "0    0.8 miles        0.80\n",
      "1     1.0 mile        1.00\n",
      "2   0.75 miles        0.75\n",
      "3    0.5 miles        0.50\n",
      "4    0.5 miles        0.50\n",
      "5      Various         NaN\n",
      "6    1.7 miles        1.70\n",
      "7    2.4 miles        2.40\n",
      "8     1.0 mile        1.00\n",
      "9    3.0 miles        3.00\n",
      "10  12.3 miles       12.30\n",
      "11  0.85 miles        0.85\n",
      "12   4.0 miles        4.00\n",
      "13   7.6 miles        7.60\n",
      "14   8.0 miles        8.00\n",
      "15   0.5 miles        0.50\n",
      "16   7.6 miles        7.60\n",
      "17  0.75 miles        0.75\n",
      "18  0.25 miles        0.25\n",
      "19  12.3 miles       12.30\n",
      "20   1.4 miles        1.40\n",
      "21  1.25 miles        1.25\n",
      "22   1.5 miles        1.50\n",
      "23    1.1 mile        1.10\n",
      "24   1.5 miles        1.50\n",
      "25   1.2 miles        1.20\n",
      "26  0.75 miles        0.75\n",
      "27   1.5 miles        1.50\n",
      "28   3.0 miles        3.00\n",
      "29        None         NaN\n",
      "30        None         NaN\n",
      "31        None         NaN\n",
      "32        None         NaN\n"
     ]
    }
   ],
   "source": [
    "import re\n",
    "# Write a pattern to extract numbers and decimals\n",
    "def return_mileage(length):\n",
    "    pattern = re.compile(r\"\\d+\\.\\d+\")\n",
    "    \n",
    "    # Search the text for matches\n",
    "    mile = re.match(pattern,str(length))\n",
    "    \n",
    "    # If a value is returned, use group(0) to return the found value\n",
    "    if mile is not None:\n",
    "        return float(mile.group(0))\n",
    "    \n",
    "# Apply the function to the Length column and take a look at both columns\n",
    "hiking[\"Length_num\"] = hiking[\"Length\"].apply(return_mileage)\n",
    "print(hiking[[\"Length\", \"Length_num\"]])\n"
   ]
  },
  {
   "cell_type": "markdown",
   "metadata": {},
   "source": [
    "### 4. Engineering features from strings - tf/idf\n",
    "Let's transform the volunteer dataset's title column into a text vector, \n",
    "to use in a prediction task in the next exercise."
   ]
  },
  {
   "cell_type": "markdown",
   "metadata": {},
   "source": [
    "### Bag of Words Reference:\n",
    "\n",
    "http://datameetsmedia.com/bag-of-words-tf-idf-explained/\n",
    "\n",
    "https://medium.freecodecamp.org/how-to-process-textual-data-using-tf-idf-in-python-cd2bbc0a94a3"
   ]
  },
  {
   "cell_type": "code",
   "execution_count": 32,
   "metadata": {
    "scrolled": true
   },
   "outputs": [
    {
     "name": "stdout",
     "output_type": "stream",
     "text": [
      "<class 'scipy.sparse.csr.csr_matrix'>\n",
      "(665, 1136)\n",
      "0.2304728774077965\n",
      "RangeIndex(start=0, stop=1136, step=1)\n"
     ]
    }
   ],
   "source": [
    "from sklearn.feature_extraction.text import TfidfVectorizer\n",
    "\n",
    "# Take the title text\n",
    "title_text = volunteer[\"title\"]\n",
    "#print(title_text.head())\n",
    "# Create the vectorizer method\n",
    "tfidf_vec = TfidfVectorizer()\n",
    "# Transform the text into tf-idf vectors\n",
    "text_tfidf = tfidf_vec.fit_transform(title_text)\n",
    "print(type(text_tfidf))\n",
    "print(text_tfidf.toarray().shape)\n",
    "#print(pd.DataFrame(text_tfidf.toarray()).head())\n",
    "print(text_tfidf.toarray()[0][1086])\n",
    "print(pd.DataFrame(text_tfidf.toarray()).columns)\n"
   ]
  },
  {
   "cell_type": "code",
   "execution_count": 33,
   "metadata": {},
   "outputs": [
    {
     "name": "stdout",
     "output_type": "stream",
     "text": [
      "0.49101796407185627\n"
     ]
    }
   ],
   "source": [
    "from sklearn.model_selection import train_test_split  \n",
    "from sklearn.naive_bayes import GaussianNB\n",
    "# Split the dataset according to the class distribution of category_desc\n",
    "y = volunteer[\"category_desc\"].astype(str)\n",
    "train_X, test_X, train_y, test_y = train_test_split(text_tfidf.toarray(), y, stratify = y)\n",
    "\n",
    "nb = GaussianNB()\n",
    "# Fit the model to the training data\n",
    "nb.fit(train_X, train_y)\n",
    "\n",
    "# Print out the model's accuracy\n",
    "print(nb.score(test_X, test_y))"
   ]
  },
  {
   "cell_type": "code",
   "execution_count": 27,
   "metadata": {
    "scrolled": false
   },
   "outputs": [
    {
     "name": "stdout",
     "output_type": "stream",
     "text": [
      "{'volunteers': 1086, 'needed': 690, 'for': 404, 'rise': 869, 'up': 1061, 'stay': 959, 'put': 822, 'home': 493, 'rescue': 855, 'fair': 375, 'web': 1095, 'designer': 297, 'urban': 1063, 'adventures': 43, 'ice': 515, 'skating': 930, 'at': 98, 'lasker': 587, 'rink': 868, 'fight': 392, 'global': 447, 'hunger': 512, 'and': 75, 'support': 986, 'women': 1108, 'farmers': 380, 'join': 562, 'the': 1012, 'oxfam': 739, 'action': 31, 'corps': 255, 'in': 523, 'nyc': 710, 'stop': 962, 'swap': 989, 'queens': 825, 'staff': 951, 'development': 300, 'trainer': 1037, 'claro': 213, 'brooklyn': 155, 'volunteer': 1084, 'attorney': 101, 'cents': 188, 'ability': 23, 'community': 235, 'health': 480, 'advocates': 48, 'supervise': 984, 'children': 202, 'highland': 491, 'park': 748, 'garden': 433, 'worldofmoney': 1118, 'org': 727, 'youth': 1132, 'amazing': 67, 'race': 826, 'qualified': 824, 'board': 142, 'member': 649, 'seats': 899, 'available': 106, 'young': 1130, 'adult': 38, 'tutor': 1052, 'updated': 1062, '30': 13, '11': 0, 'insurance': 538, 'claims': 212, 'manager': 629, 'timebanksnyc': 1024, 'great': 456, 'exchange': 364, 'clean': 218, 'asbury': 89, 'cementary': 184, 'staten': 958, 'island': 550, 'senior': 908, 'citizen': 207, 'friendly': 416, 'visitor': 1080, 'shop': 920, 'tree': 1045, 'care': 173, 'workshop': 1115, '20': 5, 'movie': 675, 'screener': 895, 'seniors': 909, 'farm': 379, 'graphic': 454, 'general': 437, 'services': 913, 'handyman': 473, 'open': 721, 'house': 505, 'seeking': 905, 'drupal': 324, 'end': 344, 'poverty': 788, 'campaign': 166, 'get': 440, 'tools': 1029, 'to': 1025, 'recycling': 841, 'family': 377, 'event': 360, 'clerical': 220, 'cancer': 169, 'walk': 1088, 'befitnyc': 128, 'physical': 772, 'activity': 35, 'organizers': 731, 'decision': 287, 'day': 284, '2011': 6, 'needs': 691, 'your': 1131, 'help': 484, 'gain': 429, 'valuable': 1067, 'counseling': 260, 'experience': 368, 'on': 717, 'samaritans': 884, '24': 11, 'hour': 504, 'crisis': 271, 'hotline': 503, 'heart': 482, 'gallery': 431, 'our': 734, 'info': 528, 'table': 991, 'finding': 397, 'homes': 496, 'kids': 570, 'yiddish': 1124, 'speaking': 943, 'homework': 497, 'helper': 485, 'skilled': 932, 'rebuilding': 835, 'together': 1027, 'repairs': 853, 'greenteam': 462, 'advetures': 45, 'summer': 982, 'streets': 973, 'tuesday': 1050, 'evenings': 359, 'with': 1107, 'masa': 641, 'lunch': 623, 'program': 805, 'us': 1064, 'outreach': 737, 'meals': 647, 'preparedness': 795, 'compost': 236, 'project': 808, 'master': 642, 'composter': 237, 'certificate': 191, 'course': 264, 'emblemhealth': 341, 'bronx': 154, 'of': 713, 'service': 912, 'jcc': 557, 'manhattan': 630, 'registration': 847, 'girl': 442, 'scout': 894, 'series': 911, 'dorot': 316, 'rosh': 876, 'hashanah': 477, 'package': 740, 'delivery': 293, 'painting': 744, 'instructor': 536, 'jasa': 556, 'hes': 489, 'center': 185, '3rd': 14, 'annual': 77, 'flyny': 401, 'kite': 576, 'festival': 390, 'tomorrow': 1028, 'business': 161, 'leaders': 594, 'teach': 997, 'basics': 118, 'high': 490, 'schoolers': 891, 'jingle': 559, 'bell': 130, 'run': 879, 'arthritis': 85, 'gardening': 434, 'ft': 421, 'tryon': 1049, 'st': 950, 'martin': 639, 'poetry': 781, 'new': 698, 'york': 1126, 'college': 230, 'goal': 448, 'sunday': 983, 'february': 385, '2012': 7, 'dance': 280, '22nd': 9, 'latino': 588, 'march': 633, '17': 3, 'university': 1059, 'saturday': 887, 'tutors': 1054, 'planet': 777, 'human': 510, 'mapping': 631, 'give': 444, 'week': 1097, 'child': 199, 'learn': 597, 'read': 831, 'storytelling': 967, 'costume': 258, 'making': 626, 'stage': 952, 'design': 296, 'emergency': 342, '9th': 21, 'west': 1100, 'side': 926, 'county': 263, 'nutrition': 706, 'educator': 336, 'shape': 918, 'east': 328, '54st': 15, 'rec': 836, 'water': 1093, 'aerobics': 50, 'asser': 91, 'levy': 601, 'paint': 743, 'alongside': 64, 'publicolor': 818, 'students': 978, 'jumpstart': 564, 'readers': 832, 'lead': 592, 'crafts': 267, 'games': 432, 'face': 372, 'popcorn': 784, 'jackie': 553, 'robinson': 872, 'parent': 747, 'fitness': 399, 'starrett': 956, 'city': 210, 'line': 613, 'dancer': 281, 'math': 644, 'literacy': 615, 'be': 122, 'climb': 222, 'top': 1030, 'marketing': 637, 'assistant': 94, 'education': 335, 'nonprofit': 703, 'seeks': 906, 'recruitment': 840, 'mentors': 655, 'register': 845, 'attend': 100, 'breakfast': 152, 'orientation': 732, 'january': 555, 'planning': 778, 'red': 842, 'cross': 273, 'clubs': 224, 'deliver': 291, 'winter': 1105, 'visit': 1078, 'an': 72, 'isolated': 551, 'exercise': 366, 'coach': 227, 'night': 700, 'beach': 123, 'change': 193, 'art': 84, 'programs': 807, 'consumer': 243, 'protection': 814, 'law': 590, 'liver': 617, 'life': 607, 'leader': 593, 'soup': 941, 'kitchen': 575, 'eastern': 329, 'john': 561, 'muir': 680, 'street': 971, 'vendor': 1071, 'monthly': 670, 'team': 1001, 'fiesta': 391, 'throgs': 1022, 'neck': 688, 'computer': 238, 'teacher': 998, 'leadership': 595, 'council': 259, 'opportunity': 724, 'conversation': 245, 'helpers': 486, 'grades': 451, 'pantry': 745, 'distribution': 308, 'earth': 327, 'tech': 1002, 'website': 1096, 'opportunities': 723, 'classroom': 216, 'set': 916, 'brush': 156, 'kindness': 573, 'transportation': 1044, 'alternatives': 65, 'bike': 138, 'valet': 1066, 'video': 1073, 'editing': 333, 'professionals': 802, 'stipend': 961, 'after': 54, 'school': 890, 'mentor': 653, 'networking': 696, 'bowling': 147, 'fun': 422, 'harlem': 474, 'lanes': 583, 'yoga': 1125, 'spanish': 942, 'or': 726, 'french': 413, 'feed': 386, 'hungry': 513, 'yorkers': 1127, '55': 16, 'only': 720, 'phone': 768, 'bank': 114, 'representative': 854, 'reach': 830, 'out': 735, 'morris': 672, 'heights': 483, 'special': 944, 'camp': 165, 'susan': 988, 'komen': 579, 'cure': 277, 'greater': 457, 'affiliate': 52, 'dumbo': 325, 'arts': 87, 'organizational': 729, 'budget': 158, 'money': 668, 'makes': 625, 'sense': 910, 'training': 1039, 'site': 929, 'videographer': 1074, 'fly': 400, 'by': 162, 'theater': 1013, 'grant': 453, 'writer': 1121, 'proposal': 813, 'preparation': 794, 'fund': 423, 'raising': 828, 'harm': 475, 'reduction': 843, 'adv': 40, 'intern': 541, 'serving': 914, 'lgbt': 603, 'adults': 39, 'how': 507, 'ride': 866, 'bikes': 139, 'research': 856, 'fundraising': 425, 'developement': 299, 'cook': 247, 'row': 878, 'afterschool': 55, 'middle': 659, 'shower': 924, 'fundraisers': 424, 'it': 552, 'interpreters': 545, 'lawyers': 591, 'haitian': 470, 'abe': 22, 'pre': 792, 'ged': 436, 'monitor': 669, 'astoria': 97, 'million': 663, 'trees': 1046, 'giveaway': 445, 'do': 310, 'you': 1128, 'want': 1091, 'make': 624, 'difference': 302, 'classwish': 217, 'snow': 936, 'shoveling': 922, 'citizenship': 209, 'press': 796, 'list': 614, 'as': 88, 'public': 816, 'benefit': 131, 'counselor': 261, 'aces': 29, 'relations': 848, 'plan': 776, 'review': 864, 'friendship': 418, 'positive': 787, 'beginnings': 129, 'kit': 574, 'mary': 640, 'recreation': 838, 'does': 311, 'organization': 728, 'need': 689, 'search': 897, 'strategy': 969, 'esl': 355, 'affected': 51, 'storm': 965, 'transform': 1040, 'lives': 618, 'strengthen': 975, 'communities': 234, 'become': 127, 'driver': 323, 'veterans': 1072, 'chinese': 204, 'translator': 1042, 'instructors': 537, 'museum': 683, 'membership': 650, 'department': 294, 'director': 304, 'beautify': 125, 'transitional': 1041, 'residence': 857, 'homeless': 495, 'men': 652, 'tank': 995, 'internship': 543, 'projects': 809, 'wild': 1103, 'boys': 148, 'hope': 500, 'girls': 443, 'communications': 233, 'raise': 827, 'awareness': 108, 'administrative': 36, 'alliance': 63, 'registrar': 846, 'ms': 677, 'word': 1109, 'career': 174, 'passover': 754, 'enjoy': 348, 'outdoor': 736, 'early': 326, 'childhood': 201, 'build': 159, 'plastic': 780, 'bottle': 146, 'sculpture': 896, 'pride': 798, 'is': 549, 'just': 566, 'around': 83, 'corner': 253, 'involved': 546, 'now': 705, 'fresh': 414, 'air': 60, 'teachers': 999, 'find': 396, 'perfect': 761, 'job': 560, 'office': 714, 'writing': 1122, 'data': 282, 'entry': 349, 'activism': 33, 'photography': 771, 'salesforce': 882, 'database': 283, 'customization': 279, 'photo': 769, 'essay': 356, 'legal': 600, 'advisor': 47, 'hike': 492, 'thon': 1019, 'coordinator': 251, 'laser': 586, 'tag': 992, 'dowling': 318, '175th': 4, 'information': 530, 'technology': 1004, 'fall': 376, 'forest': 406, 'restoration': 861, 'kickoff': 569, 'trevor': 1047, 'lifeline': 610, 'counselors': 262, 'thomas': 1018, 'jefferson': 558, 'materials': 643, 'year': 1123, 'founder': 410, 'executive': 365, 'haunted': 478, 'lantern': 585, 'tours': 1034, 'fort': 407, 'totten': 1031, 'national': 687, 'sexual': 917, 'assault': 90, 'online': 719, 'events': 361, 'trainers': 1038, 'african': 53, 'american': 70, 'clothing': 223, 'drive': 322, 'returning': 863, 'seeds': 904, 'success': 981, 'plant': 779, 'today': 1026, 'growth': 467, 'udec': 1055, 'enviromedia': 351, 'mobile': 665, 'maritime': 635, 'bacchanal': 110, 'pirates': 775, 'fest': 389, 'ikea': 517, 'erie': 352, 'basin': 119, 'diabetes': 301, 'association': 96, 'feria': 388, 'de': 285, 'salud': 883, 'nepali': 694, 'bangla': 113, 'punjabi': 819, 'translators': 1043, 'food': 402, 'tent': 1007, 'not': 704, 'profit': 804, 'pioneer': 774, 'capoeira': 171, 'various': 1069, 'positions': 786, 'dispatcher': 307, 'trainee': 1036, 'ing': 531, 'marathon': 632, 'free': 412, 'love': 621, 'books': 144, 'dear': 286, 'authors': 104, 'aide': 59, 'scheuer': 889, 'merchandise': 656, 'donate': 313, 'supplies': 985, 'feast': 384, 'gala': 430, 'battery': 120, 'soccer': 937, 'futsal': 426, 'performing': 762, 'advanced': 41, 'classes': 215, 'world': 1117, 'science': 893, 'western': 1101, 'americorps': 71, 'economic': 332, 'security': 903, 'initiative': 532, 'esi': 354, 'mill': 662, 'centers': 186, 'midtown': 660, 'zumba': 1135, 'vision': 1077, 'mission': 664, 'analysis': 73, 'lab': 580, 'teaching': 1000, 'housing': 506, 'works': 1114, 'dime': 303, 'assist': 92, 'resume': 862, 'building': 160, 'society': 939, 'coaches': 228, 'vs': 1087, 'committee': 232, 'russian': 880, 'foster': 409, 'celebration': 183, 'may': 645, '21th': 8, 'one': 718, 'pager': 742, 'donation': 314, 'hurricane': 514, 'irene': 547, 'far': 378, 'rockaway': 873, 'working': 1113, 'olympics': 716, 'tournament': 1033, 'reading': 833, 'partners': 750, 'cooper': 249, 'square': 949, 'thrift': 1020, 'spring': 948, 'case': 179, 'management': 628, 'fvcp': 428, 'trail': 1035, 'crew': 270, 'halloween': 471, 'carnival': 177, 'walkathon': 1089, 'feasibility': 383, 'analyst': 74, 'police': 782, 'seminar': 907, 'work': 1111, 'visually': 1082, 'impaired': 521, 'teens': 1006, 'this': 1017, 'energy': 345, 'efficiency': 337, 'season': 898, 'benefits': 132, 'reception': 837, 'drill': 321, 'copywriting': 252, 'coord': 250, 'have': 479, 'penchant': 757, 'all': 62, 'things': 1015, 'vintage': 1075, 'thriftshop': 1021, 'moving': 676, 'storage': 963, 'partner': 749, 'pencil': 758, 'partnership': 751, 'packing': 741, 'sign': 927, 'cuny': 276, '8th': 20, 'sports': 947, 'expo': 370, 'cares': 176, 'cheerleaders': 197, 'wanted': 1092, 'habitat': 469, 'finance': 395, 'coffee': 229, 'english': 347, 'practice': 790, 'learners': 598, 'healthy': 481, 'active': 32, 'time': 1023, 'april': 80, 'fashion': 381, 'strawberry': 970, 'assistants': 95, 'creative': 269, 'thinkers': 1016, 'central': 187, 'zoo': 1134, '125th': 1, 'bideawee': 136, 'greeters': 464, 'looking': 620, 'real': 834, 'impact': 520, 'inform': 529, 'people': 760, 'practices': 791, 'lifebeat': 608, 'streetsquash': 974, 'discovery': 306, 'neighborhood': 693, 'profiles': 803, 'take': 993, 'stand': 955, 'against': 56, 'violence': 1076, 'expert': 369, 'advice': 46, 'june': 565, 'schedule': 888, 'crowdfunding': 275, 'penny': 759, 'harvest': 476, 'green': 458, 'chefs': 198, 'nutritionists': 707, 'foodies': 403, 'mentoring': 654, 'boom': 145, 'newsletter': 699, 'come': 231, 'strides': 976, 'walks': 1090, 'childcare': 200, 'social': 938, 'media': 648, 'giving': 446, 'can': 168, 'ambassador': 68, '2nd': 12, 'thanksgiving': 1010, 'feeding': 387, 'needy': 692, 'publicity': 817, 'patient': 755, 'caregiver': 175, 'visiting': 1079, 'homebound': 494, 'fc': 382, 'nyawc': 709, 'forum': 408, 'about': 25, 'volunteering': 1085, 'refreshments': 844, 'sara': 886, 'roosevelt': 875, 'cleanup': 219, 'beautification': 124, 'animal': 76, 'hudson': 509, 'river': 870, 'mariners': 634, 'response': 860, 'exhibit': 367, 'aboard': 24, 'lilac': 612, 'client': 221, 'welcome': 1099, 'desk': 298, 'older': 715, 'riverbank': 871, 'roller': 874, 'lexington': 602, 'craft': 266, 'poll': 783, 'workers': 1112, 'interperters': 544, 'accounting': 28, 'assistance': 93, 'hosting': 502, 'promotion': 811, 'unicef': 1057, 'tap': 996, '23': 10, 'release': 849, 'dedication': 289, 'programming': 806, 'incarnation': 525, 'donor': 315, 'journalism': 563, 'kieran': 572, 'sponsorship': 946, 'sag': 881, 'gear': 435, 'vehicle': 1070, 'workshops': 1116, 'because': 126, 'every': 362, 'deserves': 295, 'chance': 192, 'prep': 793, 'pin': 773, 'delivered': 292, 'shred': 925, '5th': 18, 'avenue': 107, 'cdsc': 182, 'starving': 957, 'artist': 86, 'show': 923, 'system': 990, 'front': 420, 'share': 919, 'lanch': 581, 'student': 977, 'hemophilia': 488, 'liason': 605, 'methodist': 658, 'hospital': 501, 'bay': 121, 'ridge': 867, 'benonhurst': 133, 'area': 82, 'sought': 940, 'autistic': 105, 'douglaston': 317, 'qns': 823, 'administrator': 37, 'call': 163, 'governor': 450, 'recruiter': 839, 'purim': 821, 'envelope': 350, 'stuffing': 980, 'population': 785, 'estimate': 357, 'jam': 554, 'break': 151, 'down': 319, 'campaigner': 167, 'helpline': 487, 'store': 964, 'first': 398, 'generation': 439, 'van': 1068, 'cortlandt': 256, 'remembrance': 851, 'survey': 987, 'resonations': 858, 'breast': 153, 'engine': 346, 'optimization': 725, 'memorial': 651, 'sloan': 934, 'kettering': 568, 'greenhouse': 459, 'greening': 460, 'concert': 241, 'evacuation': 358, 'carpentry': 178, 'interior': 540, 'resources': 859, 'gift': 441, 'bicycling': 135, 'my': 686, 'friends': 417, 'honor': 498, 'weekend': 1098, 'person': 763, 'mural': 681, 'cooking': 248, 'editor': 334, 'personal': 764, 'shopper': 921, 'pro': 799, 'bono': 143, 'create': 268, 'cards': 172, 'step': 960, 'non': 702, 'provider': 815, 'interns': 542, 'motion': 674, 'graphics': 455, 'best': 134, 'buddies': 157, 'inern': 527, 'back': 111, 'little': 616, 'cosmetologist': 257, 'barber': 115, 'vocational': 1083, 'apartment': 79, 'greeter': 463, 'professional': 801, 'use': 1065, 'skills': 933, 'others': 733, 'figure': 393, 'croton': 274, 'cancercare': 170, '14th': 2, 'eif': 339, 'revlon': 865, 'chinatown': 203, 'therapeutic': 1014, 'aid': 58, 'activities': 34, 'ci': 206, 'corporate': 254, 'wordpress': 1110, 'blog': 141, 'instructer': 535, 'hook': 499, 'divert': 309, 'textiles': 1009, 'from': 419, 'landfill': 582, 'greenmarket': 461, 'textile': 1008, 'calling': 164, 'citizens': 208, 'improve': 522, 'achievement': 30, 'passion': 753, 'inc': 524, 'group': 465, 'drama': 320, '5k': 17, 'laundromats': 589, 'employment': 343, 'strategic': 968, 'never': 697, 'bad': 112, 'friend': 415, 'future': 427, 'class': 214, 'wish': 1106, 'fpcj': 411, 'worship': 1119, 'undergraduate': 1056, 'graduate': 452, 'conference': 242, 'we': 1094, 'promote': 810, 'knowledge': 578, 'parade': 746, 'archivist': 81, 'google': 449, 'adwords': 49, 'imentor': 518, 'more': 671, 'male': 627, 'miles': 661, 'moms': 666, 'charity': 196, 'century': 189, 'tour': 1032, 'civil': 211, 'patrol': 756, 'america': 69, 'kept': 567, 'secret': 901, 'ms131': 678, 'knitter': 577, 'crochet': 272, 'blankets': 140, 'ceo': 190, 'logo': 619, 'unique': 1058, 'will': 1104, 'big': 137, 'adventure': 42, 'accountant': 27, 'session': 915, 'age': 57, 'single': 928, 'mothers': 673, 'choice': 205, 'smc': 935, 'wii': 1102, 'nights': 701, 'market': 636, 'intake': 539, 'monday': 667, 'branding': 150, 'brand': 149, 'identity': 516, 'mt': 679, 'zion': 1133, 'kidz': 571, 'reorganize': 852, 'library': 606, 'athletic': 99, 'league': 596, 'turtle': 1051, 'music': 684, 'decorating': 288, 'party': 752, 'musician': 685, 'alzheimer': 66, 'bash': 117, 'proctor': 800, 'taking': 994, 'exams': 363, 'promotional': 812, 'personnel': 765, 'august': 103, 'operations': 722, 'skill': 931, 'networker': 695, 'ecological': 331, 'puppet': 820, 'income': 526, 'generating': 438, 'organizations': 730, 'lp': 622, 'streetfest': 972, '7th': 19, 'cpr': 265, 'lgbtq': 604, 'el': 340, 'museo': 682, 'del': 290, 'barrio': 116, 'met': 657, 'petition': 766, 'escort': 353, 'sand': 885, 'castle': 180, 'contest': 244, 'schools': 892, 'humanities': 511, 'second': 900, 'language': 584, 'babies': 109, 'teen': 1005, 'al': 61, 'oerter': 712, 'html': 508, 'curriculum': 278, 'photographer': 770, 'secretary': 902, 'pr': 789, 'would': 1120, 'like': 611, 'computers': 239, 'technical': 1003, 'grownyc': 466, 'that': 1011, 'extraordinary': 371, 'foreclosure': 405, 'prevention': 797, 'nylag': 711, 'ny': 708, 'concern': 240, 'inspire': 534, 'academic': 26, 'tutoring': 1053, 'rbi': 829, 'anyone': 78, 'cma': 225, 'cms': 226, 'conversion': 246, 'eating': 330, 'learning': 599, 'chaperones': 194, 'visits': 1081, 'unlimited': 1060, 'lifeguard': 609, 'facilitators': 374, 'troop': 1048, 'route': 877, 'marshall': 638, 'inmotion': 533, 'story': 966, 'stair': 953, 'domestic': 312, 'catskills': 181, 'relief': 850, 'effort': 338, 'audience': 102, 'pharmacy': 767, 'guide': 468, 'overnight': 738, 'immediate': 519, 'dirty': 305, 'hands': 472, 'facilitator': 373, 'specialist': 945, 'chapter': 195, 'stamps': 954, 'iridescent': 548, 'studio': 979, 'advertising': 44, 'filmmakers': 394, 'mayor': 646, 'youcantoo': 1129}\n"
     ]
    }
   ],
   "source": [
    "print(tfidf_vec.vocabulary_)"
   ]
  },
  {
   "cell_type": "code",
   "execution_count": 132,
   "metadata": {},
   "outputs": [
    {
     "name": "stdout",
     "output_type": "stream",
     "text": [
      "(1136,)\n",
      "3.863703510814003\n",
      "['11', '125th', '14th', '17', '175th', '20', '2011', '2012', '21th', '22nd', '23', '24', '2nd', '30', '3rd', '54st', '55', '5k', '5th', '7th', '8th', '9th', 'abe', 'ability', 'aboard', 'about', 'academic', 'accountant', 'accounting', 'aces', 'achievement', 'action', 'active', 'activism', 'activities', 'activity', 'administrative', 'administrator', 'adult', 'adults', 'adv', 'advanced', 'adventure', 'adventures', 'advertising', 'advetures', 'advice', 'advisor', 'advocates', 'adwords', 'aerobics', 'affected', 'affiliate', 'african', 'after', 'afterschool', 'against', 'age', 'aid', 'aide', 'air', 'al', 'all', 'alliance', 'alongside', 'alternatives', 'alzheimer', 'amazing', 'ambassador', 'america', 'american', 'americorps', 'an', 'analysis', 'analyst', 'and', 'animal', 'annual', 'anyone', 'apartment', 'april', 'archivist', 'area', 'around', 'art', 'arthritis', 'artist', 'arts', 'as', 'asbury', 'assault', 'asser', 'assist', 'assistance', 'assistant', 'assistants', 'association', 'astoria', 'at', 'athletic', 'attend', 'attorney', 'audience', 'august', 'authors', 'autistic', 'available', 'avenue', 'awareness', 'babies', 'bacchanal', 'back', 'bad', 'bangla', 'bank', 'barber', 'barrio', 'bash', 'basics', 'basin', 'battery', 'bay', 'be', 'beach', 'beautification', 'beautify', 'because', 'become', 'befitnyc', 'beginnings', 'bell', 'benefit', 'benefits', 'benonhurst', 'best', 'bicycling', 'bideawee', 'big', 'bike', 'bikes', 'blankets', 'blog', 'board', 'bono', 'books', 'boom', 'bottle', 'bowling', 'boys', 'brand', 'branding', 'break', 'breakfast', 'breast', 'bronx', 'brooklyn', 'brush', 'buddies', 'budget', 'build', 'building', 'business', 'by', 'call', 'calling', 'camp', 'campaign', 'campaigner', 'can', 'cancer', 'cancercare', 'capoeira', 'cards', 'care', 'career', 'caregiver', 'cares', 'carnival', 'carpentry', 'case', 'castle', 'catskills', 'cdsc', 'celebration', 'cementary', 'center', 'centers', 'central', 'cents', 'century', 'ceo', 'certificate', 'chance', 'change', 'chaperones', 'chapter', 'charity', 'cheerleaders', 'chefs', 'child', 'childcare', 'childhood', 'children', 'chinatown', 'chinese', 'choice', 'ci', 'citizen', 'citizens', 'citizenship', 'city', 'civil', 'claims', 'claro', 'class', 'classes', 'classroom', 'classwish', 'clean', 'cleanup', 'clerical', 'client', 'climb', 'clothing', 'clubs', 'cma', 'cms', 'coach', 'coaches', 'coffee', 'college', 'come', 'committee', 'communications', 'communities', 'community', 'compost', 'composter', 'computer', 'computers', 'concern', 'concert', 'conference', 'consumer', 'contest', 'conversation', 'conversion', 'cook', 'cooking', 'cooper', 'coord', 'coordinator', 'copywriting', 'corner', 'corporate', 'corps', 'cortlandt', 'cosmetologist', 'costume', 'council', 'counseling', 'counselor', 'counselors', 'county', 'course', 'cpr', 'craft', 'crafts', 'create', 'creative', 'crew', 'crisis', 'crochet', 'cross', 'croton', 'crowdfunding', 'cuny', 'cure', 'curriculum', 'customization', 'dance', 'dancer', 'data', 'database', 'day', 'de', 'dear', 'decision', 'decorating', 'dedication', 'del', 'deliver', 'delivered', 'delivery', 'department', 'deserves', 'design', 'designer', 'desk', 'developement', 'development', 'diabetes', 'difference', 'dime', 'director', 'dirty', 'discovery', 'dispatcher', 'distribution', 'divert', 'do', 'does', 'domestic', 'donate', 'donation', 'donor', 'dorot', 'douglaston', 'dowling', 'down', 'drama', 'drill', 'drive', 'driver', 'drupal', 'dumbo', 'early', 'earth', 'east', 'eastern', 'eating', 'ecological', 'economic', 'editing', 'editor', 'education', 'educator', 'efficiency', 'effort', 'eif', 'el', 'emblemhealth', 'emergency', 'employment', 'end', 'energy', 'engine', 'english', 'enjoy', 'entry', 'envelope', 'enviromedia', 'erie', 'escort', 'esi', 'esl', 'essay', 'estimate', 'evacuation', 'evenings', 'event', 'events', 'every', 'exams', 'exchange', 'executive', 'exercise', 'exhibit', 'experience', 'expert', 'expo', 'extraordinary', 'face', 'facilitator', 'facilitators', 'fair', 'fall', 'family', 'far', 'farm', 'farmers', 'fashion', 'fc', 'feasibility', 'feast', 'february', 'feed', 'feeding', 'feria', 'fest', 'festival', 'fiesta', 'fight', 'figure', 'filmmakers', 'finance', 'find', 'finding', 'first', 'fitness', 'fly', 'flyny', 'food', 'foodies', 'for', 'foreclosure', 'forest', 'fort', 'forum', 'foster', 'founder', 'fpcj', 'free', 'french', 'fresh', 'friend', 'friendly', 'friends', 'friendship', 'from', 'front', 'ft', 'fun', 'fund', 'fundraisers', 'fundraising', 'futsal', 'future', 'fvcp', 'gain', 'gala', 'gallery', 'games', 'garden', 'gardening', 'gear', 'ged', 'general', 'generating', 'generation', 'get', 'gift', 'girl', 'girls', 'give', 'giveaway', 'giving', 'global', 'goal', 'google', 'governor', 'grades', 'graduate', 'grant', 'graphic', 'graphics', 'great', 'greater', 'green', 'greenhouse', 'greening', 'greenmarket', 'greenteam', 'greeter', 'greeters', 'group', 'grownyc', 'growth', 'guide', 'habitat', 'haitian', 'halloween', 'hands', 'handyman', 'harlem', 'harm', 'harvest', 'hashanah', 'haunted', 'have', 'health', 'healthy', 'heart', 'heights', 'help', 'helper', 'helpers', 'helpline', 'hemophilia', 'hes', 'high', 'highland', 'hike', 'home', 'homebound', 'homeless', 'homes', 'homework', 'honor', 'hook', 'hope', 'hospital', 'hosting', 'hotline', 'hour', 'house', 'housing', 'how', 'html', 'hudson', 'human', 'humanities', 'hunger', 'hungry', 'hurricane', 'ice', 'identity', 'ikea', 'imentor', 'immediate', 'impact', 'impaired', 'improve', 'in', 'inc', 'incarnation', 'income', 'inern', 'info', 'inform', 'information', 'ing', 'initiative', 'inmotion', 'inspire', 'instructer', 'instructor', 'instructors', 'insurance', 'intake', 'interior', 'intern', 'interns', 'internship', 'interperters', 'interpreters', 'involved', 'irene', 'iridescent', 'is', 'island', 'isolated', 'it', 'jackie', 'jam', 'january', 'jasa', 'jcc', 'jefferson', 'jingle', 'job', 'john', 'join', 'journalism', 'jumpstart', 'june', 'just', 'kept', 'kettering', 'kickoff', 'kids', 'kidz', 'kieran', 'kindness', 'kit', 'kitchen', 'kite', 'knitter', 'knowledge', 'komen', 'lab', 'lanch', 'landfill', 'lanes', 'language', 'lantern', 'laser', 'lasker', 'latino', 'laundromats', 'law', 'lawyers', 'lead', 'leader', 'leaders', 'leadership', 'league', 'learn', 'learners', 'learning', 'legal', 'levy', 'lexington', 'lgbt', 'lgbtq', 'liason', 'library', 'life', 'lifebeat', 'lifeguard', 'lifeline', 'like', 'lilac', 'line', 'list', 'literacy', 'little', 'liver', 'lives', 'logo', 'looking', 'love', 'lp', 'lunch', 'make', 'makes', 'making', 'male', 'management', 'manager', 'manhattan', 'mapping', 'marathon', 'march', 'mariners', 'maritime', 'market', 'marketing', 'marshall', 'martin', 'mary', 'masa', 'master', 'materials', 'math', 'may', 'mayor', 'meals', 'media', 'member', 'membership', 'memorial', 'men', 'mentor', 'mentoring', 'mentors', 'merchandise', 'met', 'methodist', 'middle', 'midtown', 'miles', 'mill', 'million', 'mission', 'mobile', 'moms', 'monday', 'money', 'monitor', 'monthly', 'more', 'morris', 'mothers', 'motion', 'movie', 'moving', 'ms', 'ms131', 'mt', 'muir', 'mural', 'museo', 'museum', 'music', 'musician', 'my', 'national', 'neck', 'need', 'needed', 'needs', 'needy', 'neighborhood', 'nepali', 'networker', 'networking', 'never', 'new', 'newsletter', 'night', 'nights', 'non', 'nonprofit', 'not', 'now', 'nutrition', 'nutritionists', 'ny', 'nyawc', 'nyc', 'nylag', 'oerter', 'of', 'office', 'older', 'olympics', 'on', 'one', 'online', 'only', 'open', 'operations', 'opportunities', 'opportunity', 'optimization', 'or', 'org', 'organization', 'organizational', 'organizations', 'organizers', 'orientation', 'others', 'our', 'out', 'outdoor', 'outreach', 'overnight', 'oxfam', 'package', 'packing', 'pager', 'paint', 'painting', 'pantry', 'parade', 'parent', 'park', 'partner', 'partners', 'partnership', 'party', 'passion', 'passover', 'patient', 'patrol', 'penchant', 'pencil', 'penny', 'people', 'perfect', 'performing', 'person', 'personal', 'personnel', 'petition', 'pharmacy', 'phone', 'photo', 'photographer', 'photography', 'physical', 'pin', 'pioneer', 'pirates', 'plan', 'planet', 'planning', 'plant', 'plastic', 'poetry', 'police', 'poll', 'popcorn', 'population', 'positions', 'positive', 'poverty', 'pr', 'practice', 'practices', 'pre', 'prep', 'preparation', 'preparedness', 'press', 'prevention', 'pride', 'pro', 'proctor', 'professional', 'professionals', 'profiles', 'profit', 'program', 'programming', 'programs', 'project', 'projects', 'promote', 'promotion', 'promotional', 'proposal', 'protection', 'provider', 'public', 'publicity', 'publicolor', 'punjabi', 'puppet', 'purim', 'put', 'qns', 'qualified', 'queens', 'race', 'raise', 'raising', 'rbi', 'reach', 'read', 'readers', 'reading', 'real', 'rebuilding', 'rec', 'reception', 'recreation', 'recruiter', 'recruitment', 'recycling', 'red', 'reduction', 'refreshments', 'register', 'registrar', 'registration', 'relations', 'release', 'relief', 'remembrance', 'reorganize', 'repairs', 'representative', 'rescue', 'research', 'residence', 'resonations', 'resources', 'response', 'restoration', 'resume', 'returning', 'review', 'revlon', 'ride', 'ridge', 'rink', 'rise', 'river', 'riverbank', 'robinson', 'rockaway', 'roller', 'roosevelt', 'rosh', 'route', 'row', 'run', 'russian', 'sag', 'salesforce', 'salud', 'samaritans', 'sand', 'sara', 'saturday', 'schedule', 'scheuer', 'school', 'schoolers', 'schools', 'science', 'scout', 'screener', 'sculpture', 'search', 'season', 'seats', 'second', 'secret', 'secretary', 'security', 'seeds', 'seeking', 'seeks', 'seminar', 'senior', 'seniors', 'sense', 'series', 'service', 'services', 'serving', 'session', 'set', 'sexual', 'shape', 'share', 'shop', 'shopper', 'shoveling', 'show', 'shower', 'shred', 'side', 'sign', 'single', 'site', 'skating', 'skill', 'skilled', 'skills', 'sloan', 'smc', 'snow', 'soccer', 'social', 'society', 'sought', 'soup', 'spanish', 'speaking', 'special', 'specialist', 'sponsorship', 'sports', 'spring', 'square', 'st', 'staff', 'stage', 'stair', 'stamps', 'stand', 'starrett', 'starving', 'staten', 'stay', 'step', 'stipend', 'stop', 'storage', 'store', 'storm', 'story', 'storytelling', 'strategic', 'strategy', 'strawberry', 'street', 'streetfest', 'streets', 'streetsquash', 'strengthen', 'strides', 'student', 'students', 'studio', 'stuffing', 'success', 'summer', 'sunday', 'supervise', 'supplies', 'support', 'survey', 'susan', 'swap', 'system', 'table', 'tag', 'take', 'taking', 'tank', 'tap', 'teach', 'teacher', 'teachers', 'teaching', 'team', 'tech', 'technical', 'technology', 'teen', 'teens', 'tent', 'textile', 'textiles', 'thanksgiving', 'that', 'the', 'theater', 'therapeutic', 'things', 'thinkers', 'this', 'thomas', 'thon', 'thrift', 'thriftshop', 'throgs', 'time', 'timebanksnyc', 'to', 'today', 'together', 'tomorrow', 'tools', 'top', 'totten', 'tour', 'tournament', 'tours', 'trail', 'trainee', 'trainer', 'trainers', 'training', 'transform', 'transitional', 'translator', 'translators', 'transportation', 'tree', 'trees', 'trevor', 'troop', 'tryon', 'tuesday', 'turtle', 'tutor', 'tutoring', 'tutors', 'udec', 'undergraduate', 'unicef', 'unique', 'university', 'unlimited', 'up', 'updated', 'urban', 'us', 'use', 'valet', 'valuable', 'van', 'various', 'vehicle', 'vendor', 'veterans', 'video', 'videographer', 'vintage', 'violence', 'vision', 'visit', 'visiting', 'visitor', 'visits', 'visually', 'vocational', 'volunteer', 'volunteering', 'volunteers', 'vs', 'walk', 'walkathon', 'walks', 'want', 'wanted', 'water', 'we', 'web', 'website', 'week', 'weekend', 'welcome', 'west', 'western', 'wii', 'wild', 'will', 'winter', 'wish', 'with', 'women', 'word', 'wordpress', 'work', 'workers', 'working', 'works', 'workshop', 'workshops', 'world', 'worldofmoney', 'worship', 'would', 'writer', 'writing', 'year', 'yiddish', 'yoga', 'york', 'yorkers', 'you', 'youcantoo', 'young', 'your', 'youth', 'zion', 'zoo', 'zumba']\n"
     ]
    }
   ],
   "source": [
    "print(tfidf_vec.idf_.shape)\n",
    "print(tfidf_vec.idf_[1086])\n",
    "print(tfidf_vec.get_feature_names())"
   ]
  },
  {
   "cell_type": "code",
   "execution_count": 57,
   "metadata": {
    "collapsed": true
   },
   "outputs": [],
   "source": [
    "#Regular expression\n",
    "#@[A-Za-z0-9_]+\n",
    "#starts with @\n",
    "#followed by any alphabet(upper or lower case), digit, or underscore\n",
    "#that repeats at least once, but any number of times\n",
    "#.: wildcard, matches a single character\n",
    "#^: start of a string\n",
    "#$: end of a string\n",
    "#[]: matches one of the set of characters within []\n",
    "#[a-z]: matches one of the range of characters a,b,...,z\n",
    "#[^abc]: matches a character that is not a,b, or,c\n",
    "#a|b: matches either a or b, where a and b are strings\n",
    "#(): Scoping for operators\n",
    "#\\: Escape character for special characters (\\t,\\n,\\b)\n",
    "#\\b: Mathces word boundary\n",
    "#\\d: Any digit, equivalent to [0-9]\n",
    "#\\D: Any non-digit, equivalent to [^0-9]\n",
    "#\\s: Any whitespace, equivalent to [ \\t\\n\\r\\f\\v]\n",
    "#\\w: Alphanumeric character, equivalent to [a-zA-Z0-9_]\n",
    "#\\W: Non-Alphanumeric, equivalent to [^a-zA-Z0-9_]\n",
    "#*: matches zero or more occurrences\n",
    "#+: matches one or more occurrences\n",
    "#?: matches zero or one occurrences\n",
    "#{n}: exactly n repetitions, n >= 0\n",
    "#{n,}: at least n repetitions\n",
    "#{,n}: at most n repetitions\n",
    "#{m,n}: at least m and at most n repetitions"
   ]
  }
 ],
 "metadata": {
  "kernelspec": {
   "display_name": "Python 3",
   "language": "python",
   "name": "python3"
  },
  "language_info": {
   "codemirror_mode": {
    "name": "ipython",
    "version": 3
   },
   "file_extension": ".py",
   "mimetype": "text/x-python",
   "name": "python",
   "nbconvert_exporter": "python",
   "pygments_lexer": "ipython3",
   "version": "3.7.4"
  }
 },
 "nbformat": 4,
 "nbformat_minor": 2
}
