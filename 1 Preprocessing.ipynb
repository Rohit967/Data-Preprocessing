{
 "cells": [
  {
   "cell_type": "markdown",
   "metadata": {},
   "source": [
    "# Data Preprocessing\n",
    "\n",
    "* Before modeling, we need to preprocess/clean the data set.\n",
    "* If your dataset has missing value, we need to remove the missing value.\n",
    "* Machine Learning models require numerical input, if your dataset has categorical variables, you need to transform them. \n",
    "* Data preprocessing is a prerequisites for modeling."
   ]
  },
  {
   "cell_type": "markdown",
   "metadata": {},
   "source": [
    "## 1. Diagnose your dataset"
   ]
  },
  {
   "cell_type": "code",
   "execution_count": 39,
   "metadata": {},
   "outputs": [],
   "source": [
    "# importing pandas package \n",
    "import pandas as pd \n",
    "# making data frame from csv file \n",
    "volunteer = pd.read_csv(\"volunteer_opportunities.csv\") "
   ]
  },
  {
   "cell_type": "code",
   "execution_count": 2,
   "metadata": {},
   "outputs": [
    {
     "name": "stdout",
     "output_type": "stream",
     "text": [
      "(665, 35)\n"
     ]
    }
   ],
   "source": [
    "print(volunteer.shape)"
   ]
  },
  {
   "cell_type": "code",
   "execution_count": 3,
   "metadata": {},
   "outputs": [
    {
     "name": "stdout",
     "output_type": "stream",
     "text": [
      "Index(['opportunity_id', 'content_id', 'vol_requests', 'event_time', 'title',\n",
      "       'hits', 'summary', 'is_priority', 'category_id', 'category_desc',\n",
      "       'amsl', 'amsl_unit', 'org_title', 'org_content_id', 'addresses_count',\n",
      "       'locality', 'region', 'postalcode', 'primary_loc', 'display_url',\n",
      "       'recurrence_type', 'hours', 'created_date', 'last_modified_date',\n",
      "       'start_date_date', 'end_date_date', 'status', 'Latitude', 'Longitude',\n",
      "       'Community Board', 'Community Council ', 'Census Tract', 'BIN', 'BBL',\n",
      "       'NTA'],\n",
      "      dtype='object')\n"
     ]
    }
   ],
   "source": [
    "print(volunteer.columns)"
   ]
  },
  {
   "cell_type": "code",
   "execution_count": 4,
   "metadata": {},
   "outputs": [
    {
     "name": "stdout",
     "output_type": "stream",
     "text": [
      "opportunity_id          int64\n",
      "content_id              int64\n",
      "vol_requests            int64\n",
      "event_time              int64\n",
      "title                  object\n",
      "hits                    int64\n",
      "summary                object\n",
      "is_priority            object\n",
      "category_id           float64\n",
      "category_desc          object\n",
      "amsl                  float64\n",
      "amsl_unit             float64\n",
      "org_title              object\n",
      "org_content_id          int64\n",
      "addresses_count         int64\n",
      "locality               object\n",
      "region                 object\n",
      "postalcode            float64\n",
      "primary_loc           float64\n",
      "display_url            object\n",
      "recurrence_type        object\n",
      "hours                   int64\n",
      "created_date           object\n",
      "last_modified_date     object\n",
      "start_date_date        object\n",
      "end_date_date          object\n",
      "status                 object\n",
      "Latitude              float64\n",
      "Longitude             float64\n",
      "Community Board       float64\n",
      "Community Council     float64\n",
      "Census Tract          float64\n",
      "BIN                   float64\n",
      "BBL                   float64\n",
      "NTA                   float64\n",
      "dtype: object\n"
     ]
    }
   ],
   "source": [
    "print(volunteer.dtypes)"
   ]
  },
  {
   "cell_type": "code",
   "execution_count": 5,
   "metadata": {},
   "outputs": [
    {
     "name": "stdout",
     "output_type": "stream",
     "text": [
      "       opportunity_id    content_id  vol_requests  event_time         hits  \\\n",
      "count      665.000000    665.000000    665.000000       665.0   665.000000   \n",
      "mean      5374.454135  42790.643609     78.778947         0.0   345.409023   \n",
      "std        234.322154   5491.720274    569.763773         0.0   530.716526   \n",
      "min       4952.000000  36697.000000      1.000000         0.0     0.000000   \n",
      "25%       5175.000000  38414.000000      3.000000         0.0   102.000000   \n",
      "50%       5377.000000  40222.000000     12.000000         0.0   204.000000   \n",
      "75%       5580.000000  49308.000000     30.000000         0.0   374.000000   \n",
      "max       5782.000000  52894.000000   9999.000000         0.0  4662.000000   \n",
      "\n",
      "       category_id  amsl  amsl_unit  org_content_id  addresses_count ...   \\\n",
      "count   617.000000   0.0        0.0      665.000000       665.000000 ...    \n",
      "mean      2.105348   NaN        NaN    20752.207519         1.046617 ...    \n",
      "std       1.412003   NaN        NaN    19143.034346         0.537109 ...    \n",
      "min       1.000000   NaN        NaN       24.000000         1.000000 ...    \n",
      "25%       1.000000   NaN        NaN     2138.000000         1.000000 ...    \n",
      "50%       2.000000   NaN        NaN     4442.000000         1.000000 ...    \n",
      "75%       3.000000   NaN        NaN    39189.000000         1.000000 ...    \n",
      "max       6.000000   NaN        NaN    52858.000000        12.000000 ...    \n",
      "\n",
      "       primary_loc       hours  Latitude  Longitude  Community Board  \\\n",
      "count          0.0  665.000000       0.0        0.0              0.0   \n",
      "mean           NaN    0.027068       NaN        NaN              NaN   \n",
      "std            NaN    0.519952       NaN        NaN              NaN   \n",
      "min            NaN    0.000000       NaN        NaN              NaN   \n",
      "25%            NaN    0.000000       NaN        NaN              NaN   \n",
      "50%            NaN    0.000000       NaN        NaN              NaN   \n",
      "75%            NaN    0.000000       NaN        NaN              NaN   \n",
      "max            NaN   12.000000       NaN        NaN              NaN   \n",
      "\n",
      "       Community Council   Census Tract  BIN  BBL  NTA  \n",
      "count                 0.0           0.0  0.0  0.0  0.0  \n",
      "mean                  NaN           NaN  NaN  NaN  NaN  \n",
      "std                   NaN           NaN  NaN  NaN  NaN  \n",
      "min                   NaN           NaN  NaN  NaN  NaN  \n",
      "25%                   NaN           NaN  NaN  NaN  NaN  \n",
      "50%                   NaN           NaN  NaN  NaN  NaN  \n",
      "75%                   NaN           NaN  NaN  NaN  NaN  \n",
      "max                   NaN           NaN  NaN  NaN  NaN  \n",
      "\n",
      "[8 rows x 21 columns]\n"
     ]
    }
   ],
   "source": [
    "print(volunteer.describe())"
   ]
  },
  {
   "cell_type": "code",
   "execution_count": 6,
   "metadata": {},
   "outputs": [
    {
     "name": "stdout",
     "output_type": "stream",
     "text": [
      "   opportunity_id  content_id  vol_requests  event_time  \\\n",
      "0            4996       37004            50           0   \n",
      "1            5008       37036             2           0   \n",
      "2            5016       37143            20           0   \n",
      "3            5022       37237           500           0   \n",
      "4            5055       37425            15           0   \n",
      "\n",
      "                                               title  hits  \\\n",
      "0  Volunteers Needed For Rise Up & Stay Put! Home...   737   \n",
      "1                                       Web designer    22   \n",
      "2      Urban Adventures - Ice Skating at Lasker Rink    62   \n",
      "3  Fight global hunger and support women farmers ...    14   \n",
      "4                                      Stop 'N' Swap    31   \n",
      "\n",
      "                                             summary is_priority  category_id  \\\n",
      "0  Building on successful events last summer and ...         NaN          NaN   \n",
      "1             Build a website for an Afghan business         NaN          1.0   \n",
      "2  Please join us and the students from Mott Hall...         NaN          1.0   \n",
      "3  The Oxfam Action Corps is a group of dedicated...         NaN          1.0   \n",
      "4  Stop 'N' Swap reduces NYC's waste by finding n...         NaN          4.0   \n",
      "\n",
      "               category_desc ...     end_date_date    status Latitude  \\\n",
      "0                        NaN ...      July 30 2011  approved      NaN   \n",
      "1  Strengthening Communities ...  February 01 2011  approved      NaN   \n",
      "2  Strengthening Communities ...   January 29 2011  approved      NaN   \n",
      "3  Strengthening Communities ...     March 31 2012  approved      NaN   \n",
      "4                Environment ...  February 05 2011  approved      NaN   \n",
      "\n",
      "   Longitude  Community Board Community Council  Census Tract  BIN  BBL NTA  \n",
      "0        NaN              NaN                NaN          NaN  NaN  NaN NaN  \n",
      "1        NaN              NaN                NaN          NaN  NaN  NaN NaN  \n",
      "2        NaN              NaN                NaN          NaN  NaN  NaN NaN  \n",
      "3        NaN              NaN                NaN          NaN  NaN  NaN NaN  \n",
      "4        NaN              NaN                NaN          NaN  NaN  NaN NaN  \n",
      "\n",
      "[5 rows x 35 columns]\n"
     ]
    }
   ],
   "source": [
    "print(volunteer.head())"
   ]
  },
  {
   "cell_type": "code",
   "execution_count": 7,
   "metadata": {},
   "outputs": [
    {
     "name": "stdout",
     "output_type": "stream",
     "text": [
      "     opportunity_id  content_id  vol_requests  event_time  \\\n",
      "660            5640       50193             3           0   \n",
      "661            5218       38711            10           0   \n",
      "662            5541       47820             1           0   \n",
      "663            5398       40722             2           0   \n",
      "664            5507       44303             5           0   \n",
      "\n",
      "                                                 title  hits  \\\n",
      "660          Volunteer for NYLAG's Food Stamps Project   197   \n",
      "661    Iridescent Science Studio Open House Volunteers   113   \n",
      "662                                  French Translator   145   \n",
      "663                  Marketing & Advertising Volunteer   330   \n",
      "664  Volunteer filmmakers to help Mayor's Office wi...   304   \n",
      "\n",
      "                                               summary is_priority  \\\n",
      "660  Volunteers needed to file for fair hearings, d...         NaN   \n",
      "661  Come out to the South Bronx to help us hold ou...         NaN   \n",
      "662  Volunteer needed to translate written material...         NaN   \n",
      "663  World Cares Center is looking for individuals ...         NaN   \n",
      "664  Attention all filmmakers, producers, and edito...         NaN   \n",
      "\n",
      "     category_id              category_desc ...      end_date_date    status  \\\n",
      "660          2.0  Helping Neighbors in Need ...   November 15 2012  approved   \n",
      "661          1.0  Strengthening Communities ...      April 13 2011  approved   \n",
      "662          2.0  Helping Neighbors in Need ...  September 01 2011  approved   \n",
      "663          1.0  Strengthening Communities ...        May 31 2012  approved   \n",
      "664          1.0  Strengthening Communities ...    October 06 2012  approved   \n",
      "\n",
      "    Latitude  Longitude  Community Board Community Council  Census Tract  BIN  \\\n",
      "660      NaN        NaN              NaN                NaN          NaN  NaN   \n",
      "661      NaN        NaN              NaN                NaN          NaN  NaN   \n",
      "662      NaN        NaN              NaN                NaN          NaN  NaN   \n",
      "663      NaN        NaN              NaN                NaN          NaN  NaN   \n",
      "664      NaN        NaN              NaN                NaN          NaN  NaN   \n",
      "\n",
      "     BBL NTA  \n",
      "660  NaN NaN  \n",
      "661  NaN NaN  \n",
      "662  NaN NaN  \n",
      "663  NaN NaN  \n",
      "664  NaN NaN  \n",
      "\n",
      "[5 rows x 35 columns]\n"
     ]
    }
   ],
   "source": [
    "print(volunteer.tail())"
   ]
  },
  {
   "cell_type": "code",
   "execution_count": 8,
   "metadata": {},
   "outputs": [
    {
     "name": "stdout",
     "output_type": "stream",
     "text": [
      "<class 'pandas.core.frame.DataFrame'>\n",
      "RangeIndex: 665 entries, 0 to 664\n",
      "Data columns (total 35 columns):\n",
      "opportunity_id        665 non-null int64\n",
      "content_id            665 non-null int64\n",
      "vol_requests          665 non-null int64\n",
      "event_time            665 non-null int64\n",
      "title                 665 non-null object\n",
      "hits                  665 non-null int64\n",
      "summary               665 non-null object\n",
      "is_priority           62 non-null object\n",
      "category_id           617 non-null float64\n",
      "category_desc         617 non-null object\n",
      "amsl                  0 non-null float64\n",
      "amsl_unit             0 non-null float64\n",
      "org_title             665 non-null object\n",
      "org_content_id        665 non-null int64\n",
      "addresses_count       665 non-null int64\n",
      "locality              595 non-null object\n",
      "region                665 non-null object\n",
      "postalcode            659 non-null float64\n",
      "primary_loc           0 non-null float64\n",
      "display_url           665 non-null object\n",
      "recurrence_type       665 non-null object\n",
      "hours                 665 non-null int64\n",
      "created_date          665 non-null object\n",
      "last_modified_date    665 non-null object\n",
      "start_date_date       665 non-null object\n",
      "end_date_date         665 non-null object\n",
      "status                665 non-null object\n",
      "Latitude              0 non-null float64\n",
      "Longitude             0 non-null float64\n",
      "Community Board       0 non-null float64\n",
      "Community Council     0 non-null float64\n",
      "Census Tract          0 non-null float64\n",
      "BIN                   0 non-null float64\n",
      "BBL                   0 non-null float64\n",
      "NTA                   0 non-null float64\n",
      "dtypes: float64(13), int64(8), object(14)\n",
      "memory usage: 181.9+ KB\n"
     ]
    }
   ],
   "source": [
    "volunteer.info()"
   ]
  },
  {
   "cell_type": "code",
   "execution_count": 13,
   "metadata": {},
   "outputs": [
    {
     "name": "stdout",
     "output_type": "stream",
     "text": [
      "opportunity_id          0\n",
      "content_id              0\n",
      "vol_requests            0\n",
      "event_time              0\n",
      "title                   0\n",
      "hits                    0\n",
      "summary                 0\n",
      "is_priority           603\n",
      "category_id            48\n",
      "category_desc          48\n",
      "amsl                  665\n",
      "amsl_unit             665\n",
      "org_title               0\n",
      "org_content_id          0\n",
      "addresses_count         0\n",
      "locality               70\n",
      "region                  0\n",
      "postalcode              6\n",
      "primary_loc           665\n",
      "display_url             0\n",
      "recurrence_type         0\n",
      "hours                   0\n",
      "created_date            0\n",
      "last_modified_date      0\n",
      "start_date_date         0\n",
      "end_date_date           0\n",
      "status                  0\n",
      "Latitude              665\n",
      "Longitude             665\n",
      "Community Board       665\n",
      "Community Council     665\n",
      "Census Tract          665\n",
      "BIN                   665\n",
      "BBL                   665\n",
      "NTA                   665\n",
      "dtype: int64\n"
     ]
    }
   ],
   "source": [
    "print(volunteer.isnull().sum())"
   ]
  },
  {
   "cell_type": "code",
   "execution_count": 16,
   "metadata": {},
   "outputs": [
    {
     "data": {
      "text/plain": [
       "0                            NaN\n",
       "1      Strengthening Communities\n",
       "2      Strengthening Communities\n",
       "3      Strengthening Communities\n",
       "4                    Environment\n",
       "5                    Environment\n",
       "6      Strengthening Communities\n",
       "7      Helping Neighbors in Need\n",
       "8                            NaN\n",
       "9                         Health\n",
       "10     Strengthening Communities\n",
       "11                     Education\n",
       "12     Strengthening Communities\n",
       "13                     Education\n",
       "14     Helping Neighbors in Need\n",
       "15     Strengthening Communities\n",
       "16     Helping Neighbors in Need\n",
       "17     Strengthening Communities\n",
       "18     Helping Neighbors in Need\n",
       "19     Strengthening Communities\n",
       "20                   Environment\n",
       "21                   Environment\n",
       "22                        Health\n",
       "23                        Health\n",
       "24     Strengthening Communities\n",
       "25                           NaN\n",
       "26                           NaN\n",
       "27                        Health\n",
       "28                           NaN\n",
       "29                   Environment\n",
       "                 ...            \n",
       "635    Helping Neighbors in Need\n",
       "636    Strengthening Communities\n",
       "637    Helping Neighbors in Need\n",
       "638    Strengthening Communities\n",
       "639    Helping Neighbors in Need\n",
       "640    Strengthening Communities\n",
       "641    Strengthening Communities\n",
       "642    Helping Neighbors in Need\n",
       "643    Helping Neighbors in Need\n",
       "644    Strengthening Communities\n",
       "645                          NaN\n",
       "646    Strengthening Communities\n",
       "647    Strengthening Communities\n",
       "648    Strengthening Communities\n",
       "649    Helping Neighbors in Need\n",
       "650                  Environment\n",
       "651    Helping Neighbors in Need\n",
       "652    Strengthening Communities\n",
       "653                  Environment\n",
       "654    Strengthening Communities\n",
       "655    Strengthening Communities\n",
       "656    Strengthening Communities\n",
       "657    Strengthening Communities\n",
       "658                       Health\n",
       "659    Helping Neighbors in Need\n",
       "660    Helping Neighbors in Need\n",
       "661    Strengthening Communities\n",
       "662    Helping Neighbors in Need\n",
       "663    Strengthening Communities\n",
       "664    Strengthening Communities\n",
       "Name: category_desc, Length: 665, dtype: object"
      ]
     },
     "execution_count": 16,
     "metadata": {},
     "output_type": "execute_result"
    }
   ],
   "source": [
    "volunteer[\"category_desc\"]"
   ]
  },
  {
   "cell_type": "markdown",
   "metadata": {},
   "source": [
    "## 2. Remove missing data"
   ]
  },
  {
   "cell_type": "markdown",
   "metadata": {},
   "source": [
    "### Remove missing values with notnull() & boolean filter"
   ]
  },
  {
   "cell_type": "code",
   "execution_count": 21,
   "metadata": {},
   "outputs": [
    {
     "name": "stdout",
     "output_type": "stream",
     "text": [
      "48\n",
      "(617, 35)\n",
      "0\n"
     ]
    }
   ],
   "source": [
    "# Check how many values are missing in the category_desc column\n",
    "print(volunteer[\"category_desc\"].isnull().sum())\n",
    "\n",
    "# Subset the volunteer dataset\n",
    "boolean_filer = volunteer[\"category_desc\"].notnull()\n",
    "volunteer_subset = volunteer[boolean_filer]\n",
    "\n",
    "# Print out the shape of the subset\n",
    "print(volunteer_subset.shape)\n",
    "print(volunteer_subset[\"category_desc\"].isnull().sum())"
   ]
  },
  {
   "cell_type": "markdown",
   "metadata": {},
   "source": [
    "### Drop all rows from a dataframe that contain missing values with dropna()"
   ]
  },
  {
   "cell_type": "code",
   "execution_count": 28,
   "metadata": {},
   "outputs": [
    {
     "name": "stdout",
     "output_type": "stream",
     "text": [
      "(665, 35)\n",
      "(617,)\n"
     ]
    }
   ],
   "source": [
    "print(volunteer.shape)\n",
    "volunteer_droped = volunteer[\"category_desc\"].dropna()\n",
    "print(volunteer_droped.shape)"
   ]
  },
  {
   "cell_type": "markdown",
   "metadata": {},
   "source": [
    "### Drop columns with drop and axis"
   ]
  },
  {
   "cell_type": "code",
   "execution_count": 31,
   "metadata": {},
   "outputs": [
    {
     "name": "stdout",
     "output_type": "stream",
     "text": [
      "(665, 33)\n"
     ]
    }
   ],
   "source": [
    "# Create a data with all columns except category_desc\n",
    "volunteer_X = volunteer.drop(['category_desc','BBL'], axis=1)\n",
    "# Create a category_desc labels dataset\n",
    "volunteer_y = volunteer[['category_desc']]\n",
    "\n",
    "print(volunteer_X.shape)\n"
   ]
  },
  {
   "cell_type": "code",
   "execution_count": 40,
   "metadata": {},
   "outputs": [
    {
     "name": "stdout",
     "output_type": "stream",
     "text": [
      "(663, 35)\n"
     ]
    }
   ],
   "source": [
    "volunteer_test = volunteer.drop([0,1], axis=0)\n",
    "print(volunteer_test.shape)"
   ]
  },
  {
   "cell_type": "markdown",
   "metadata": {},
   "source": [
    "## Types in pyhton\n",
    "* Object: string/mixed types\n",
    "\n",
    "* int64: integer\n",
    "\n",
    "* float64: float"
   ]
  },
  {
   "cell_type": "markdown",
   "metadata": {},
   "source": [
    "## 3. Converting column types"
   ]
  },
  {
   "cell_type": "code",
   "execution_count": 43,
   "metadata": {},
   "outputs": [
    {
     "name": "stdout",
     "output_type": "stream",
     "text": [
      "0    737\n",
      "1     22\n",
      "2     62\n",
      "3     14\n",
      "4     31\n",
      "Name: hits, dtype: object\n",
      "opportunity_id          int64\n",
      "content_id              int64\n",
      "vol_requests            int64\n",
      "event_time              int64\n",
      "title                  object\n",
      "hits                   object\n",
      "summary                object\n",
      "is_priority            object\n",
      "category_id           float64\n",
      "category_desc          object\n",
      "amsl                  float64\n",
      "amsl_unit             float64\n",
      "org_title              object\n",
      "org_content_id          int64\n",
      "addresses_count         int64\n",
      "locality               object\n",
      "region                 object\n",
      "postalcode            float64\n",
      "primary_loc           float64\n",
      "display_url            object\n",
      "recurrence_type        object\n",
      "hours                   int64\n",
      "created_date           object\n",
      "last_modified_date     object\n",
      "start_date_date        object\n",
      "end_date_date          object\n",
      "status                 object\n",
      "Latitude              float64\n",
      "Longitude             float64\n",
      "Community Board       float64\n",
      "Community Council     float64\n",
      "Census Tract          float64\n",
      "BIN                   float64\n",
      "BBL                   float64\n",
      "NTA                   float64\n",
      "dtype: object\n"
     ]
    }
   ],
   "source": [
    "# Print the head of the hits column\n",
    "print(volunteer[\"hits\"].head())\n",
    "#print(volunteer.dtypes)\n",
    "\n",
    "# Convert the hits column to type int\n",
    "volunteer[\"hits\"] = volunteer[\"hits\"].astype(int)\n",
    "print(volunteer.dtypes)\n",
    "\n",
    "# Look at the dtypes of the dataset"
   ]
  },
  {
   "cell_type": "code",
   "execution_count": 61,
   "metadata": {},
   "outputs": [
    {
     "name": "stdout",
     "output_type": "stream",
     "text": [
      "0.4\n",
      "3.1457\n"
     ]
    }
   ],
   "source": [
    "a = 3.1456789\n",
    "print(\"{0:.4f}\".format(a))"
   ]
  },
  {
   "cell_type": "markdown",
   "metadata": {},
   "source": [
    "## 4. Class distribution"
   ]
  },
  {
   "cell_type": "code",
   "execution_count": 57,
   "metadata": {},
   "outputs": [
    {
     "data": {
      "text/plain": [
       "Strengthening Communities    307\n",
       "Helping Neighbors in Need    119\n",
       "Education                     92\n",
       "Health                        52\n",
       "Environment                   32\n",
       "Emergency Preparedness        15\n",
       "Name: category_desc, dtype: int64"
      ]
     },
     "execution_count": 57,
     "metadata": {},
     "output_type": "execute_result"
    }
   ],
   "source": [
    "volunteer[\"category_desc\"].value_counts()"
   ]
  },
  {
   "cell_type": "code",
   "execution_count": 58,
   "metadata": {},
   "outputs": [
    {
     "data": {
      "text/plain": [
       "617"
      ]
     },
     "execution_count": 58,
     "metadata": {},
     "output_type": "execute_result"
    }
   ],
   "source": [
    "volunteer[\"category_desc\"].count()"
   ]
  },
  {
   "cell_type": "markdown",
   "metadata": {},
   "source": [
    "## 5. Stratified sampling\n",
    "We know that the distribution of variables in the category_desc column in the volunteer dataset is uneven. If we wanted to train a model to try to predict category_desc, we would want to train the model on a sample of data that is representative of the entire dataset. Stratified sampling is a way to achieve this."
   ]
  },
  {
   "cell_type": "code",
   "execution_count": 59,
   "metadata": {},
   "outputs": [
    {
     "name": "stdout",
     "output_type": "stream",
     "text": [
      "Strengthening Communities    230\n",
      "Helping Neighbors in Need     89\n",
      "Education                     69\n",
      "Health                        39\n",
      "Environment                   24\n",
      "Emergency Preparedness        11\n",
      "Name: category_desc, dtype: int64\n"
     ]
    }
   ],
   "source": [
    "from sklearn.model_selection import train_test_split  \n",
    "\n",
    "# Create a data with all columns except category_desc\n",
    "volunteer_X = volunteer.drop(['category_desc'], axis=1)\n",
    "\n",
    "# Create a category_desc labels dataset\n",
    "volunteer_y = volunteer[['category_desc']]\n",
    "\n",
    "# Use stratified sampling to split up the dataset according to the volunteer_y dataset\n",
    "X_train, X_test, y_train, y_test = train_test_split(volunteer_X, volunteer_y, stratify = volunteer_y)\n",
    "\n",
    "# Print out the category_desc counts on the training y labels\n",
    "print(y_train['category_desc'].value_counts())"
   ]
  },
  {
   "cell_type": "markdown",
   "metadata": {},
   "source": [
    "# scikit-learn models assume normally distributed data\n",
    "## Standardize your data\n",
    "## Log normalization and feature scaling\n",
    "## Applied to continous numerical data "
   ]
  },
  {
   "cell_type": "code",
   "execution_count": null,
   "metadata": {
    "collapsed": true
   },
   "outputs": [],
   "source": []
  },
  {
   "cell_type": "code",
   "execution_count": 28,
   "metadata": {
    "collapsed": true
   },
   "outputs": [
    {
     "name": "stdout",
     "output_type": "stream",
     "text": [
      "Strengthening Communities    230\n",
      "Helping Neighbors in Need     89\n",
      "Education                     69\n",
      "Health                        39\n",
      "Environment                   24\n",
      "Emergency Preparedness        11\n",
      "Name: category_desc, dtype: int64\n",
      "Strengthening Communities    77\n",
      "Helping Neighbors in Need    30\n",
      "Education                    23\n",
      "Health                       13\n",
      "Environment                   8\n",
      "Emergency Preparedness        4\n",
      "Name: category_desc, dtype: int64\n"
     ]
    }
   ],
   "source": [
    "from sklearn.model_selection import train_test_split  \n",
    "\n",
    "# Use stratified sampling to split up the dataset according to the volunteer_y dataset\n",
    "X_train, X_test, y_train, y_test = train_test_split(volunteer_X, volunteer_y, stratify = volunteer_y)\n",
    "\n",
    "# Print out the category_desc counts on the training y labels\n",
    "print(y_train['category_desc'].value_counts())\n",
    "print(y_test['category_desc'].value_counts())"
   ]
  }
 ],
 "metadata": {
  "kernelspec": {
   "display_name": "Python 3",
   "language": "python",
   "name": "python3"
  },
  "language_info": {
   "codemirror_mode": {
    "name": "ipython",
    "version": 3
   },
   "file_extension": ".py",
   "mimetype": "text/x-python",
   "name": "python",
   "nbconvert_exporter": "python",
   "pygments_lexer": "ipython3",
   "version": "3.7.4"
  }
 },
 "nbformat": 4,
 "nbformat_minor": 2
}
